{
 "cells": [
  {
   "cell_type": "code",
   "execution_count": 2,
   "metadata": {},
   "outputs": [
    {
     "name": "stdout",
     "output_type": "stream",
     "text": [
      "Requirement already satisfied: numpy in c:\\users\\jenglish\\appdata\\local\\programs\\python\\python36\\lib\\site-packages\n",
      "Requirement already satisfied: matplotlib in c:\\users\\jenglish\\appdata\\local\\programs\\python\\python36\\lib\\site-packages\n",
      "Requirement already satisfied: six>=1.10 in c:\\users\\jenglish\\appdata\\local\\programs\\python\\python36\\lib\\site-packages (from matplotlib)\n",
      "Requirement already satisfied: python-dateutil>=2.0 in c:\\users\\jenglish\\appdata\\local\\programs\\python\\python36\\lib\\site-packages (from matplotlib)\n",
      "Requirement already satisfied: numpy>=1.7.1 in c:\\users\\jenglish\\appdata\\local\\programs\\python\\python36\\lib\\site-packages (from matplotlib)\n",
      "Requirement already satisfied: cycler>=0.10 in c:\\users\\jenglish\\appdata\\local\\programs\\python\\python36\\lib\\site-packages (from matplotlib)\n",
      "Requirement already satisfied: pytz in c:\\users\\jenglish\\appdata\\local\\programs\\python\\python36\\lib\\site-packages (from matplotlib)\n",
      "Requirement already satisfied: pyparsing!=2.0.4,!=2.1.2,!=2.1.6,>=2.0.1 in c:\\users\\jenglish\\appdata\\local\\programs\\python\\python36\\lib\\site-packages (from matplotlib)\n"
     ]
    },
    {
     "data": {
      "image/png": "[encoded data removed]",
      "text/plain": [
       "<matplotlib.figure.Figure at 0x12790ba8>"
      ]
     },
     "metadata": {},
     "output_type": "display_data"
    }
   ],
   "source": [
    "!pip install numpy\n",
    "!pip install matplotlib\n",
    "\n",
    "#\n",
    "#   House_Price_Prediction.py\n",
    "#\n",
    "#    This is a very simple prediction of house prices based on house size, implemented \n",
    "#   in TensorFlow.  This code is part of Pluralsight's course \"TensorFlow: Getting Started\"\n",
    "#\n",
    "\n",
    "import tensorflow as tf\n",
    "import numpy as np\n",
    "import math\n",
    "import matplotlib.pyplot as plt\n",
    "import matplotlib.animation as animation # import animation support\n",
    "\n",
    "#  generation some house sizes between 1000 and 3500 (typical sq ft of house)\n",
    "num_house = 160\n",
    "np.random.seed(42)\n",
    "house_size = np.random.randint(low=1000, high=3500, size=num_house )\n",
    "\n",
    "# Generate house prices from house size with a random noise added.\n",
    "np.random.seed(42)\n",
    "house_price = house_size * 100.0 + np.random.randint(low=20000, high=70000, size=num_house)  \n",
    "\n",
    "# Plot generated house and size \n",
    "plt.plot(house_size, house_price, \"bo\")  # bx = blue x\n",
    "plt.ylabel(\"Price\")\n",
    "plt.xlabel(\"Size\")\n",
    "plt.show()"
   ]
  },
  {
   "cell_type": "code",
   "execution_count": null,
   "metadata": {},
   "outputs": [],
   "source": [
    "def normalize(array):\n",
    "    return (array - array.mean()) / array.std()\n",
    "\n",
    "# define number of training samples, 0.7 = 70%.  We can take the first 70% since the values are randomized\n",
    "num_train_samples = math.floor(num_house * 0.7)\n",
    "\n",
    "# define training data\n",
    "train_house_size = np.asarray(house_size[:num_train_samples])\n",
    "train_price = np.asanyarray(house_price[:num_train_samples:])\n",
    "\n",
    "train_house_size_norm = normalize(train_house_size)\n",
    "train_price_norm = normalize(train_price)\n",
    "\n",
    "# define test data\n",
    "test_house_size = np.array(house_size[num_train_samples:])\n",
    "test_house_price = np.array(house_price[num_train_samples:])\n",
    "\n",
    "test_house_size_norm = normalize(test_house_size)\n",
    "test_house_price_norm = normalize(test_house_price)\n",
    "\n",
    "# Setup the TF placeholders to get updated as we descend down the gradient\n",
    "tf_house_size = tf.placeholder('float', name='house_size')\n",
    "tf_price = tf.placeholder('float', name='price')\n",
    "\n",
    "# Define the variables holding the size_factor and price we set during training\n",
    "# We initialize them to some random values based on the normal distribution.\n",
    "tf_size_factor = tf.Variable(np.random.randn(), name='size_factor')\n",
    "tf_price_offset = tf.Variable(np.random.randn(), name='price_offset')\n",
    "\n",
    "# 2. Define the operations for the predicting values - predicted price = (size_factor * house_size ) + price_offset\n",
    "#  Notice, the use of the tensorflow add and multiply functions.  These add the operations to the computation graph,\n",
    "#  AND the tensorflow methods understand how to deal with Tensors.  Therefore do not try to use numpy or other library \n",
    "#  methods.\n",
    "tf_price_pred = tf.add(tf.multiply(tf_size_factor, tf_house_size), tf_price_offset)"
   ]
  }
 ],
 "metadata": {
  "kernelspec": {
   "display_name": "Python 3",
   "language": "python",
   "name": "python3"
  },
  "language_info": {
   "codemirror_mode": {
    "name": "ipython",
    "version": 3
   },
   "file_extension": ".py",
   "mimetype": "text/x-python",
   "name": "python",
   "nbconvert_exporter": "python",
   "pygments_lexer": "ipython3",
   "version": "3.6.4"
  }
 },
 "nbformat": 4,
 "nbformat_minor": 2
}
